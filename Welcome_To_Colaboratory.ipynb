{
  "cells": [
    {
      "cell_type": "markdown",
      "metadata": {
        "id": "view-in-github",
        "colab_type": "text"
      },
      "source": [
        "<a href=\"https://colab.research.google.com/github/duncaam/CodeJam2023/blob/main/Welcome_To_Colaboratory.ipynb\" target=\"_parent\"><img src=\"https://colab.research.google.com/assets/colab-badge.svg\" alt=\"Open In Colab\"/></a>"
      ]
    },
    {
      "cell_type": "code",
      "source": [
        "#!pip install azure-ai-formrecognizer==3.2.0\n",
        "\n",
        "#!pip install azure-storage-blob\n",
        "#!pip install azure-mgmt-storage\n",
        "\n",
        "!pip install azure-identity"
      ],
      "metadata": {
        "id": "a2aWbcBSOmU4",
        "outputId": "52e45ca1-2cb4-4138-c6b6-1616f6c48b57",
        "colab": {
          "base_uri": "https://localhost:8080/",
          "height": 537
        }
      },
      "execution_count": 10,
      "outputs": [
        {
          "output_type": "stream",
          "name": "stdout",
          "text": [
            "Collecting azure-identity\n",
            "  Downloading azure_identity-1.13.0-py3-none-any.whl (151 kB)\n",
            "\u001b[?25l     \u001b[90m━━━━━━━━━━━━━━━━━━━━━━━━━━━━━━━━━━━━━━━━\u001b[0m \u001b[32m0.0/151.6 kB\u001b[0m \u001b[31m?\u001b[0m eta \u001b[36m-:--:--\u001b[0m\r\u001b[2K     \u001b[91m━━━━━━━━━━━━━━━━━━━━━━━━━━━━━━━━━━━━\u001b[0m\u001b[91m╸\u001b[0m\u001b[90m━━\u001b[0m \u001b[32m143.4/151.6 kB\u001b[0m \u001b[31m5.0 MB/s\u001b[0m eta \u001b[36m0:00:01\u001b[0m\r\u001b[2K     \u001b[90m━━━━━━━━━━━━━━━━━━━━━━━━━━━━━━━━━━━━━━━\u001b[0m \u001b[32m151.6/151.6 kB\u001b[0m \u001b[31m3.9 MB/s\u001b[0m eta \u001b[36m0:00:00\u001b[0m\n",
            "\u001b[?25hRequirement already satisfied: azure-core<2.0.0,>=1.11.0 in /usr/local/lib/python3.10/dist-packages (from azure-identity) (1.28.0)\n",
            "Requirement already satisfied: cryptography>=2.5 in /usr/local/lib/python3.10/dist-packages (from azure-identity) (41.0.2)\n",
            "Collecting msal<2.0.0,>=1.20.0 (from azure-identity)\n",
            "  Downloading msal-1.22.0-py2.py3-none-any.whl (90 kB)\n",
            "\u001b[2K     \u001b[90m━━━━━━━━━━━━━━━━━━━━━━━━━━━━━━━━━━━━━━━━\u001b[0m \u001b[32m90.0/90.0 kB\u001b[0m \u001b[31m10.2 MB/s\u001b[0m eta \u001b[36m0:00:00\u001b[0m\n",
            "\u001b[?25hCollecting msal-extensions<2.0.0,>=0.3.0 (from azure-identity)\n",
            "  Downloading msal_extensions-1.0.0-py2.py3-none-any.whl (19 kB)\n",
            "Requirement already satisfied: six>=1.12.0 in /usr/local/lib/python3.10/dist-packages (from azure-identity) (1.16.0)\n",
            "Requirement already satisfied: requests>=2.18.4 in /usr/local/lib/python3.10/dist-packages (from azure-core<2.0.0,>=1.11.0->azure-identity) (2.27.1)\n",
            "Requirement already satisfied: typing-extensions>=4.3.0 in /usr/local/lib/python3.10/dist-packages (from azure-core<2.0.0,>=1.11.0->azure-identity) (4.7.1)\n",
            "Requirement already satisfied: cffi>=1.12 in /usr/local/lib/python3.10/dist-packages (from cryptography>=2.5->azure-identity) (1.15.1)\n",
            "Collecting PyJWT[crypto]<3,>=1.0.0 (from msal<2.0.0,>=1.20.0->azure-identity)\n",
            "  Downloading PyJWT-2.8.0-py3-none-any.whl (22 kB)\n",
            "Collecting portalocker<3,>=1.0 (from msal-extensions<2.0.0,>=0.3.0->azure-identity)\n",
            "  Downloading portalocker-2.7.0-py2.py3-none-any.whl (15 kB)\n",
            "Requirement already satisfied: pycparser in /usr/local/lib/python3.10/dist-packages (from cffi>=1.12->cryptography>=2.5->azure-identity) (2.21)\n",
            "Requirement already satisfied: urllib3<1.27,>=1.21.1 in /usr/local/lib/python3.10/dist-packages (from requests>=2.18.4->azure-core<2.0.0,>=1.11.0->azure-identity) (1.26.16)\n",
            "Requirement already satisfied: certifi>=2017.4.17 in /usr/local/lib/python3.10/dist-packages (from requests>=2.18.4->azure-core<2.0.0,>=1.11.0->azure-identity) (2023.5.7)\n",
            "Requirement already satisfied: charset-normalizer~=2.0.0 in /usr/local/lib/python3.10/dist-packages (from requests>=2.18.4->azure-core<2.0.0,>=1.11.0->azure-identity) (2.0.12)\n",
            "Requirement already satisfied: idna<4,>=2.5 in /usr/local/lib/python3.10/dist-packages (from requests>=2.18.4->azure-core<2.0.0,>=1.11.0->azure-identity) (3.4)\n",
            "Installing collected packages: PyJWT, portalocker, msal, msal-extensions, azure-identity\n",
            "Successfully installed PyJWT-2.8.0 azure-identity-1.13.0 msal-1.22.0 msal-extensions-1.0.0 portalocker-2.7.0\n"
          ]
        },
        {
          "output_type": "display_data",
          "data": {
            "application/vnd.colab-display-data+json": {
              "pip_warning": {
                "packages": [
                  "azure"
                ]
              }
            }
          },
          "metadata": {}
        }
      ]
    },
    {
      "cell_type": "code",
      "source": [
        "!pip install azure-ai-formrecognizer==3.2.0\n",
        "\n",
        "\"\"\"\n",
        "This code sample shows Prebuilt Document operations with the Azure Form Recognizer client library.\n",
        "The async versions of the samples require Python 3.6 or later.\n",
        "\n",
        "To learn more, please visit the documentation - Quickstart: Form Recognizer Python client library SDKs\n",
        "https://docs.microsoft.com/en-us/azure/applied-ai-services/form-recognizer/quickstarts/try-v3-python-sdk\n",
        "\"\"\"\n",
        "\n",
        "from azure.ai.formrecognizer import DocumentAnalysisClient\n",
        "from azure.core.credentials import AzureKeyCredential\n",
        "\n",
        "\"\"\"\n",
        "Remember to remove the key from your code when you're done, and never post it publicly. For production, use\n",
        "secure methods to store and access your credentials. For more information, see\n",
        "https://docs.microsoft.com/en-us/azure/cognitive-services/cognitive-services-security?tabs=command-line%2Ccsharp#environment-variables-and-application-configuration\n",
        "\"\"\"\n",
        "endpoint = \"https://eastus.api.cognitive.microsoft.com/\"\n",
        "key = \"3091e3a7274b4a7493bd619f09969e5d\"\n",
        "\n",
        "# sample document\n",
        "formUrl = \"https://raw.githubusercontent.com/Azure-Samples/cognitive-services-REST-api-samples/master/curl/form-recognizer/sample-layout.pdf\"\n",
        "\n",
        "document_analysis_client = DocumentAnalysisClient(\n",
        "        endpoint=endpoint, credential=AzureKeyCredential(key)\n",
        "    )\n",
        "\n",
        "poller = document_analysis_client.begin_analyze_document_from_url(\"prebuilt-document\", formUrl)\n",
        "\n",
        "\n",
        "\n",
        "\n",
        "poller = document_analysis_client.begin_analyze_document\n",
        "\n",
        "result = poller.result()\n",
        "\n",
        "print(\"----Key-value pairs found in document----\")\n",
        "for kv_pair in result.key_value_pairs:\n",
        "    if kv_pair.key and kv_pair.value:\n",
        "        print(\"Key '{}': Value: '{}'\".format(kv_pair.key.content, kv_pair.value.content))\n",
        "    else:\n",
        "        print(\"Key '{}': Value:\".format(kv_pair.key.content))\n",
        "\n",
        "print(\"----------------------------------------\")\n"
      ],
      "metadata": {
        "id": "a4pas8VR7ST5",
        "outputId": "5fd3bf41-bcc2-41b2-aa8c-63d8a4a6580c",
        "colab": {
          "base_uri": "https://localhost:8080/"
        }
      },
      "execution_count": 8,
      "outputs": [
        {
          "output_type": "stream",
          "name": "stdout",
          "text": [
            "Collecting azure-ai-formrecognizer==3.2.0\n",
            "  Downloading azure_ai_formrecognizer-3.2.0-py3-none-any.whl (228 kB)\n",
            "\u001b[?25l     \u001b[90m━━━━━━━━━━━━━━━━━━━━━━━━━━━━━━━━━━━━━━━━\u001b[0m \u001b[32m0.0/228.4 kB\u001b[0m \u001b[31m?\u001b[0m eta \u001b[36m-:--:--\u001b[0m\r\u001b[2K     \u001b[91m━━━━━━━━━━━━━━━━━━━━━━━━━━━━━━━━━━━━━━\u001b[0m\u001b[90m╺\u001b[0m \u001b[32m225.3/228.4 kB\u001b[0m \u001b[31m6.6 MB/s\u001b[0m eta \u001b[36m0:00:01\u001b[0m\r\u001b[2K     \u001b[90m━━━━━━━━━━━━━━━━━━━━━━━━━━━━━━━━━━━━━━━\u001b[0m \u001b[32m228.4/228.4 kB\u001b[0m \u001b[31m4.9 MB/s\u001b[0m eta \u001b[36m0:00:00\u001b[0m\n",
            "\u001b[?25hCollecting azure-core<2.0.0,>=1.23.0 (from azure-ai-formrecognizer==3.2.0)\n",
            "  Downloading azure_core-1.28.0-py3-none-any.whl (185 kB)\n",
            "\u001b[2K     \u001b[90m━━━━━━━━━━━━━━━━━━━━━━━━━━━━━━━━━━━━━━\u001b[0m \u001b[32m185.4/185.4 kB\u001b[0m \u001b[31m19.9 MB/s\u001b[0m eta \u001b[36m0:00:00\u001b[0m\n",
            "\u001b[?25hCollecting msrest>=0.6.21 (from azure-ai-formrecognizer==3.2.0)\n",
            "  Downloading msrest-0.7.1-py3-none-any.whl (85 kB)\n",
            "\u001b[2K     \u001b[90m━━━━━━━━━━━━━━━━━━━━━━━━━━━━━━━━━━━━━━━━\u001b[0m \u001b[32m85.4/85.4 kB\u001b[0m \u001b[31m7.5 MB/s\u001b[0m eta \u001b[36m0:00:00\u001b[0m\n",
            "\u001b[?25hCollecting azure-common~=1.1 (from azure-ai-formrecognizer==3.2.0)\n",
            "  Downloading azure_common-1.1.28-py2.py3-none-any.whl (14 kB)\n",
            "Requirement already satisfied: typing-extensions>=4.0.1 in /usr/local/lib/python3.10/dist-packages (from azure-ai-formrecognizer==3.2.0) (4.7.1)\n",
            "Requirement already satisfied: requests>=2.18.4 in /usr/local/lib/python3.10/dist-packages (from azure-core<2.0.0,>=1.23.0->azure-ai-formrecognizer==3.2.0) (2.27.1)\n",
            "Requirement already satisfied: six>=1.11.0 in /usr/local/lib/python3.10/dist-packages (from azure-core<2.0.0,>=1.23.0->azure-ai-formrecognizer==3.2.0) (1.16.0)\n",
            "Requirement already satisfied: certifi>=2017.4.17 in /usr/local/lib/python3.10/dist-packages (from msrest>=0.6.21->azure-ai-formrecognizer==3.2.0) (2023.5.7)\n",
            "Collecting isodate>=0.6.0 (from msrest>=0.6.21->azure-ai-formrecognizer==3.2.0)\n",
            "  Downloading isodate-0.6.1-py2.py3-none-any.whl (41 kB)\n",
            "\u001b[2K     \u001b[90m━━━━━━━━━━━━━━━━━━━━━━━━━━━━━━━━━━━━━━━━\u001b[0m \u001b[32m41.7/41.7 kB\u001b[0m \u001b[31m4.0 MB/s\u001b[0m eta \u001b[36m0:00:00\u001b[0m\n",
            "\u001b[?25hRequirement already satisfied: requests-oauthlib>=0.5.0 in /usr/local/lib/python3.10/dist-packages (from msrest>=0.6.21->azure-ai-formrecognizer==3.2.0) (1.3.1)\n",
            "Requirement already satisfied: urllib3<1.27,>=1.21.1 in /usr/local/lib/python3.10/dist-packages (from requests>=2.18.4->azure-core<2.0.0,>=1.23.0->azure-ai-formrecognizer==3.2.0) (1.26.16)\n",
            "Requirement already satisfied: charset-normalizer~=2.0.0 in /usr/local/lib/python3.10/dist-packages (from requests>=2.18.4->azure-core<2.0.0,>=1.23.0->azure-ai-formrecognizer==3.2.0) (2.0.12)\n",
            "Requirement already satisfied: idna<4,>=2.5 in /usr/local/lib/python3.10/dist-packages (from requests>=2.18.4->azure-core<2.0.0,>=1.23.0->azure-ai-formrecognizer==3.2.0) (3.4)\n",
            "Requirement already satisfied: oauthlib>=3.0.0 in /usr/local/lib/python3.10/dist-packages (from requests-oauthlib>=0.5.0->msrest>=0.6.21->azure-ai-formrecognizer==3.2.0) (3.2.2)\n",
            "Installing collected packages: azure-common, isodate, azure-core, msrest, azure-ai-formrecognizer\n",
            "Successfully installed azure-ai-formrecognizer-3.2.0 azure-common-1.1.28 azure-core-1.28.0 isodate-0.6.1 msrest-0.7.1\n",
            "----Key-value pairs found in document----\n",
            "Key 'QUARTERLY REPORT PURSUANT TO SECTION 13 OR 15(d) OF THE SECURITIES EXCHANGE ACT OF 1934': Value: ':selected:'\n",
            "Key 'For the Quarterly Period Ended': Value: '2020'\n",
            "Key 'March 31,': Value:\n",
            "Key 'TRANSITION REPORT PURSUANT TO SECTION 13 OR 15(d) OF THE SECURITIES EXCHANGE ACT OF 1934': Value: ':unselected:'\n",
            "Key 'For the Transition Period From': Value:\n",
            "Key 'to': Value:\n",
            "Key 'Commission File Number': Value: '001-37845'\n",
            "Key '(STATE OF INCORPORATION)': Value: 'WASHINGTON\n",
            "(425) 882-8080'\n",
            "Key '(I.R.S. ID)': Value: '91-1144442'\n",
            "Key 'Securities registered pursuant to Section 12(g) of the Act:': Value: 'NONE'\n",
            "Key 'Yes': Value: ':selected:'\n",
            "Key 'No': Value: ':unselected:'\n",
            "Key 'Yes': Value: ':selected:'\n",
            "Key 'No': Value: ':unselected:'\n",
            "Key 'Large accelerated filer': Value: ':selected:'\n",
            "Key 'Accelerated filer': Value: ':unselected:'\n",
            "Key 'Non-accelerated filer': Value: ':unselected:'\n",
            "Key 'Smaller reporting company': Value: ':unselected:'\n",
            "Key 'Emerging growth company': Value: ':unselected:'\n",
            "Key 'If an emerging growth company, indicate by check mark if the registrant has elected not to use the extended transition period for complying with any new or revised financial accounting standards provided pursuant to Section 13(a) of the Exchange Act.': Value: ':unselected:'\n",
            "Key 'Yes': Value: ':unselected:'\n",
            "Key 'No': Value: ':selected:'\n",
            "----------------------------------------\n"
          ]
        }
      ]
    },
    {
      "cell_type": "code",
      "source": [
        "def list_blobs_flat(self, blob_service_client: BlobServiceClient, container_name):\n",
        "    container_client = blob_service_client.get_container_client(container=container_name)\n",
        "\n",
        "    blob_list = container_client.list_blobs()\n",
        "\n",
        "    for blob in blob_list:\n",
        "        print(f\"Name: {blob.name}\")"
      ],
      "metadata": {
        "id": "WEPExo4tG1l4"
      },
      "execution_count": null,
      "outputs": []
    },
    {
      "cell_type": "code",
      "source": [
        "from datetime import datetime, timedelta\n",
        "from azure.storage.blob import (\n",
        "    BlockBlobService,\n",
        "    ContainerPermissions,\n",
        "    BlobPermissions,\n",
        "    PublicAccess,\n",
        ")\n",
        "\n",
        "AZURE_ACC_NAME = '<account_name>'\n",
        "AZURE_PRIMARY_KEY = '<account_key>'\n",
        "AZURE_CONTAINER = 'full-acord-pdfs'\n",
        "AZURE_BLOB='01.pdf'\n",
        "\n",
        "block_blob_service = BlockBlobService(account_name=AZURE_ACC_NAME, account_key=AZURE_PRIMARY_KEY)\n",
        "sas_url = block_blob_service.generate_blob_shared_access_signature(AZURE_CONTAINER,AZURE_BLOB,permission=BlobPermissions.READ,expiry= datetime.utcnow() + timedelta(hours=1))\n",
        "print('https://'+AZURE_ACC_NAME+'.blob.core.windows.net/'+AZURE_CONTAINER+'/'+AZURE_BLOB+'?'+sas_url)"
      ],
      "metadata": {
        "id": "NUjRVFnFOkvj"
      },
      "execution_count": null,
      "outputs": []
    },
    {
      "cell_type": "code",
      "source": [],
      "metadata": {
        "id": "ITjYEH2MRNmc"
      },
      "execution_count": null,
      "outputs": []
    },
    {
      "cell_type": "code",
      "source": [
        "import azure.identity\n",
        "from azure.storage.blob import BlobServiceClient\n",
        "import io\n",
        "import azure.storage.blob\n",
        "#Add the following code to create the client object:\n",
        "\n",
        "def get_blob_service_client(self, account_name):\n",
        "    account_url = f\"https://cjrteam8storageaccount.blob.core.windows.net/full-acord-pdfs\"\n",
        "    credential = azure.identity.UsernamePasswordCredential(\"User2Team8@cinf.net\", \"Usr2Tm8CJ23!\")\n",
        "\n",
        "    # Create the BlobServiceClient object\n",
        "    blob_service_client = BlobServiceClient(account_url, credential=credential)\n",
        "\n",
        "    return blob_service_client\n",
        "\n",
        "\n",
        "def download_blob_to_stream(self, blob_service_client: BlobServiceClient, container_name):\n",
        "    blob_client = blob_service_client.get_blob_client(container=\"full-acord-pdfs\", blob=\"01.pdf\")\n",
        "\n",
        "    # readinto() downloads the blob contents to a stream and returns the number of bytes read\n",
        "    stream = io.BytesIO()\n",
        "    num_bytes = blob_client.download_blob().readinto(stream)\n",
        "    print(f\"Number of bytes: {num_bytes}\")"
      ],
      "metadata": {
        "id": "Y3ujepZeSP-0"
      },
      "execution_count": 7,
      "outputs": []
    },
    {
      "cell_type": "code",
      "source": [],
      "metadata": {
        "id": "jFvv_qCcUJNR"
      },
      "execution_count": null,
      "outputs": []
    }
  ],
  "metadata": {
    "colab": {
      "name": "Welcome To Colaboratory",
      "toc_visible": true,
      "provenance": [],
      "include_colab_link": true
    },
    "kernelspec": {
      "display_name": "Python 3",
      "name": "python3"
    }
  },
  "nbformat": 4,
  "nbformat_minor": 0
}